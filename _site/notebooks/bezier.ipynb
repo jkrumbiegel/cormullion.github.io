{
 "cells": [
  {
   "outputs": [],
   "cell_type": "markdown",
   "source": [
    ">This post was inspired mostly by the arrival of the new Julia package [Literate.jl](https://github.com/fredrikekre/Literate.jl) by Fredrik Ekre. Literate lets you write a Julia source file, a Markdown blog post, and a Jupyter notebook all at the same time. It's magic, or, at least, indistinguishable from magic... As a result, you might be able to find a Jupyter notebook version of this Markdown-converted Julia source file somewhere nearby (look in the [github repo](https://github.com/cormullion/cormullion.github.io) for this blog, perhaps). The code uses the following packages, Literate, Luxor, Colors, Roots, Fontconfig, DataFrames, Iterators, ColorSchemes, and should work in Julia v0.6 (some packages such as Colors have yet to be updated to work with version 0.7)."
   ],
   "metadata": {}
  },
  {
   "outputs": [],
   "cell_type": "markdown",
   "source": [
    "# Bézier moi!"
   ],
   "metadata": {}
  },
  {
   "outputs": [],
   "cell_type": "markdown",
   "source": [
    "Luxor provides some support for Bézier curves, but there's no room for any more documentation—it's already too big. So the intention of this post is to provide some of the missing information about what's up with Bézier curves and how you might use them. And I confess in advance to wasting some of your bandwidth with some pointlessly colourful graphics."
   ],
   "metadata": {}
  },
  {
   "outputs": [],
   "cell_type": "markdown",
   "source": [
    "There's not a lot of mathematical material here, but fortunately the internet is *awash* with high-quality information about Bézier curves. The two articles you should definitely read instead of this post, or at least before, are:"
   ],
   "metadata": {}
  },
  {
   "outputs": [],
   "cell_type": "markdown",
   "source": [
    "- [https://pomax.github.io/bezierinfo/](https://pomax.github.io/bezierinfo/)  An exhaustive and exhausting examination of Bézier curves by Mike 'Pomax' Kamermans, Mozilla JavaScript guru, complete with interactive JavaScript graphics."
   ],
   "metadata": {}
  },
  {
   "outputs": [],
   "cell_type": "markdown",
   "source": [
    "- [http://mae.engr.ucdavis.edu/~farouki/bernstein.pdf](http://mae.engr.ucdavis.edu/~farouki/bernstein.pdf) A paper exploring the history and mathematics of curves by Professor Rida T. Farouki (University of California Davis)."
   ],
   "metadata": {}
  },
  {
   "outputs": [],
   "cell_type": "markdown",
   "source": [
    "## Historical background"
   ],
   "metadata": {}
  },
  {
   "outputs": [],
   "cell_type": "markdown",
   "source": [
    "The story is quite well known: two engineers employed in the French car industry, *Paul de Faget de Casteljau*, at Citroen, and *Pierre Etienne Bézier*, at Renault, worked—mostly independently—on the mathematics of curves in the early 1960s, as the industry made its first tentative steps towards using computers for design and production."
   ],
   "metadata": {}
  },
  {
   "outputs": [],
   "cell_type": "markdown",
   "source": [
    "![Citroen DS](images/bezier/2560px-Bornholm_Rundt_2012.jpg)"
   ],
   "metadata": {}
  },
  {
   "outputs": [],
   "cell_type": "markdown",
   "source": [
    "(This is the Citroen DS, which was once voted the most beautiful car ever made, apparently. Image from the WikiMedia Commons photographed by [Klugschnacker](https://commons.wikimedia.org/w/index.php?curid=28638457))"
   ],
   "metadata": {}
  },
  {
   "outputs": [],
   "cell_type": "markdown",
   "source": [
    "De Casteljau and Bézier were interested in mathematical tools that would allow designers to intuitively construct and manipulate complex shapes. This problem was especially critical for “free–form” shapes that couldn't easily be specified by centre points, axes, angles, and dimensions. The motivation was also partly to replace the laborious, variable, and expensive process of sculpting clay models to specify the desired shape."
   ],
   "metadata": {}
  },
  {
   "outputs": [],
   "cell_type": "markdown",
   "source": [
    "De Casteljau found some resistance when his mathematical researches were introduced into the design studio. He observed that:"
   ],
   "metadata": {}
  },
  {
   "outputs": [],
   "cell_type": "markdown",
   "source": [
    ">the designers were astonished and scandalized. Was it some kind of joke? It was considered nonsense to represent a car body mathematically. It was enough to please the eye, the word 'accuracy' had no meaning. [quoted in Farouki]"
   ],
   "metadata": {}
  },
  {
   "outputs": [],
   "cell_type": "markdown",
   "source": [
    "Bézier popularized, but did not actually create, what we know today as the Bézier curve. He mainly developed the notation, and devised the idea of nodes with attached \"control handles\", which the designers could use to adjust the shapes as easily as they used the turn indicators on their beloved Citroen DSs."
   ],
   "metadata": {}
  },
  {
   "outputs": [],
   "cell_type": "markdown",
   "source": [
    "De Casteljau is also remembered for the [algorithm](https://en.wikipedia.org/wiki/De_Casteljau%27s_algorithm) that bears his name."
   ],
   "metadata": {}
  },
  {
   "outputs": [],
   "cell_type": "markdown",
   "source": [
    "## The shortest distance?"
   ],
   "metadata": {}
  },
  {
   "outputs": [],
   "cell_type": "markdown",
   "source": [
    "With the lingering thought of old Renaults and Citroens in mind, it's tempting to think of a Bézier curve as a line that takes, not the shortest distance between two points, but takes instead the scenic route."
   ],
   "metadata": {}
  },
  {
   "outputs": [],
   "cell_type": "markdown",
   "source": [
    "Let's define four points:"
   ],
   "metadata": {}
  },
  {
   "outputs": [],
   "cell_type": "code",
   "source": [
    "using Luxor\n",
    "P1  = Point(-200, 0)\n",
    "CP1 = Point(-100, -100)\n",
    "CP2 = Point(100, -100)\n",
    "P2  = Point(200, 0)\n",
    "@png begin\n",
    "    circle.([P1, CP1, CP2, P2], 5, :fill)\n",
    "    label.([\"P1\", \"CP1\", \"CP2\", \"P2\"], :N, [P1, CP1, CP2, P2], offset=10)\n",
    "end 800 300 \"images/bezier/fourpoints.png\""
   ],
   "metadata": {},
   "execution_count": 1
  },
  {
   "outputs": [],
   "cell_type": "markdown",
   "source": [
    "![four points](images/bezier/fourpoints.png)"
   ],
   "metadata": {}
  },
  {
   "outputs": [],
   "cell_type": "markdown",
   "source": [
    "The first and last points, P1 and P2, are the start and end of the line. The second point, CP1, controls the direction of the line as it leaves the first point, and the third point, CP2, determines the way the line approaches the fourth point. PostScript guru Don Lancaster (see footnote) uses the terms ‘influence point’ and ‘enthusiasm’—so the second influence point determines the enthusiasm with which the curve travels towards its final destination."
   ],
   "metadata": {}
  },
  {
   "outputs": [],
   "cell_type": "markdown",
   "source": [
    "The graphics primitive `curve()` function draws a Bézier curve between P1 and P2, taking into account the positions of control points CP1 and CP2. It takes just three points, using the current position as the starting point."
   ],
   "metadata": {}
  },
  {
   "outputs": [],
   "cell_type": "code",
   "source": [
    "using Colors\n",
    "@png begin\n",
    "    sethue(\"red\")\n",
    "    label.([\"P1\", \"CP1\", \"CP2\", \"P2\"], :N, [P1, CP1, CP2, P2])\n",
    "    line(P1, CP1,:stroke)\n",
    "    line(CP2, P2,:stroke)\n",
    "    sethue(\"black\")\n",
    "    move(P1)\n",
    "    curve(CP1, CP2, P2)\n",
    "    strokepath()\n",
    "    circle.([P1, CP1, CP2, P2], 3, :fill)\n",
    "end 800 300 \"images/bezier/curve.png\""
   ],
   "metadata": {},
   "execution_count": 2
  },
  {
   "outputs": [],
   "cell_type": "markdown",
   "source": [
    "![simple bezier curve](images/bezier/curve.png)"
   ],
   "metadata": {}
  },
  {
   "outputs": [],
   "cell_type": "markdown",
   "source": [
    "The control points are like handles, controlling the shape of the curve. If you've used Adobe Illustrator or some other vector graphics software, you'll be familiar with the idea of interactively dragging the handles around to get interesting curves. In Luxor, though, we sacrifice interactivity in favour of ruthless machine-driven automation. In the following animation, the control handles explore the geometry of a couple of hypotrochoids, while the helpless Bézier curve is pinned between them and forced into sinuous contortions:"
   ],
   "metadata": {}
  },
  {
   "outputs": [],
   "cell_type": "markdown",
   "source": [
    "# ![animation gif](images/bezier/animation.gif)"
   ],
   "metadata": {}
  },
  {
   "outputs": [],
   "cell_type": "markdown",
   "source": [
    "Can I make this in Adobe Illustrator? Hold my beer..."
   ],
   "metadata": {}
  },
  {
   "outputs": [],
   "cell_type": "markdown",
   "source": [
    "While you're waiting, have a look at another animation; this is my artist's impression of the De Casteljau algorithm dividing the control polygons around a Bézier curve as the parameter `n` moves from 0 to 1. The idea is that as `p1` divides `A` to `A1`, `p2` divides `A1` to `B1` and `p3` divides `B1` to `B`. So, `pp1` divides `p1` to `p2`, and `pp2` divides `p2` to `p3`. And you keep doing this until you can't divide any more, and eventually the point `P` plots the course of the final Bézier curve. The red and blue parts of the curve show that this technique is also a good way to split a single Bézier curve into two separate ones, and the red and blue parts are separate control polygons."
   ],
   "metadata": {}
  },
  {
   "outputs": [],
   "cell_type": "markdown",
   "source": [
    "![De Casteljau](images/bezier/decasteljau.gif)"
   ],
   "metadata": {}
  },
  {
   "outputs": [],
   "cell_type": "markdown",
   "source": [
    "In Luxor, a `BezierPathSegment` type contains four 2D points, stored in the fields `p1`, `cp1`, `cp2`, and `p2`, and a `BezierPath` is an array of one or more of these BezierPathSegments. The `drawbezierpath()` function draws a BezierPath or BezierPathSegment, with similar results to the `curve()` function:"
   ],
   "metadata": {}
  },
  {
   "outputs": [],
   "cell_type": "code",
   "source": [
    "@png begin\n",
    "    P1  = Point(-200, 0)\n",
    "    CP1 = Point(-100, -100)\n",
    "    CP2 = Point(100, -100)\n",
    "    P2  = Point(200, 0)\n",
    "\n",
    "    sethue(\"red\")\n",
    "    label.([\"P1\", \"CP1\", \"CP2\", \"P2\"], :N, [P1, CP1, CP2, P2])\n",
    "    line(P1, CP1,:stroke)\n",
    "    line(P2, CP2,:stroke)\n",
    "    sethue(\"black\")\n",
    "\n",
    "    beziersegment = BezierPathSegment(P1, CP1, CP2, P2)\n",
    "    circle.(beziersegment, 3, :fill)\n",
    "    drawbezierpath(beziersegment, :stroke)\n",
    "end 800 250 \"images/bezier/drawbezierpath.png\""
   ],
   "metadata": {},
   "execution_count": 3
  },
  {
   "outputs": [],
   "cell_type": "markdown",
   "source": [
    "![draw a Bezier path](images/bezier/drawbezierpath.png)"
   ],
   "metadata": {}
  },
  {
   "outputs": [],
   "cell_type": "markdown",
   "source": [
    "This last function, `drawbezierpath()` is a typical Luxor drawing function, in that you can provide `:fill` as an alternative action to `:stroke`."
   ],
   "metadata": {}
  },
  {
   "outputs": [],
   "cell_type": "markdown",
   "source": [
    "An easy way to make a BezierPath is to use `makebezierpath()` and supply a polygon. For example, let's make a triangle with `ngon()` and use it as the skeleton for a new Bézier path:"
   ],
   "metadata": {}
  },
  {
   "outputs": [],
   "cell_type": "code",
   "source": [
    "@png begin\n",
    "    sethue(\"red\")\n",
    "    triangle = ngon(O, 120, 3, vertices=true)\n",
    "    poly(triangle, :stroke, close=true)\n",
    "\n",
    "    sethue(\"black\")\n",
    "    bezierpath = makebezierpath(triangle)\n",
    "    drawbezierpath(bezierpath, :stroke)\n",
    "    circle.(triangle, 5, :fill)\n",
    "\n",
    "    for bps in bezierpath\n",
    "        circle.(bps, 3, :fill)\n",
    "        line(bps[1], bps[2], :stroke)\n",
    "        line(bps[3], bps[4], :stroke)\n",
    "    end\n",
    "\n",
    "    label.([\"p1\", \"p2\", \"p3\"], [:S, :NW, :E], triangle, offset=10)\n",
    "end 800 400 \"images/bezier/makebezierpath.png\""
   ],
   "metadata": {},
   "execution_count": 4
  },
  {
   "outputs": [],
   "cell_type": "markdown",
   "source": [
    "![make bezier path](images/bezier/makebezierpath.png)"
   ],
   "metadata": {}
  },
  {
   "outputs": [],
   "cell_type": "markdown",
   "source": [
    "Here `makebezierpath()` converted the three points into an array of three separate Bézier path segments. The control points are positioned so that the curve flows freely from one segment to the segment."
   ],
   "metadata": {}
  },
  {
   "outputs": [],
   "cell_type": "markdown",
   "source": [
    "## Going straight"
   ],
   "metadata": {}
  },
  {
   "outputs": [],
   "cell_type": "markdown",
   "source": [
    "Bézier curves can have straight bits too. This animation shows the control points moving towards the points they're controlling. When they merge, the Bézier path appears to become a series of straight lines:"
   ],
   "metadata": {}
  },
  {
   "outputs": [
    {
     "name": "stdout",
     "output_type": "stream",
     "text": [
      "\u001b[1m\u001b[36mINFO: \u001b[39m\u001b[22m\u001b[36mFrames for animation \"bedtimemovie\" are being stored in directory: \n",
      "\t /var/folders/0n/rxl1scks0f19tnxt9pgjcs_40000gp/T/tmpEQ8DuV\n",
      "\u001b[39m\u001b[1m\u001b[33mWARNING: \u001b[39m\u001b[22m\u001b[33mMovie framerange is longer than scene frame range: \n",
      "\t 1:250 > 150\u001b[39m\n",
      "\u001b[1m\u001b[36mINFO: \u001b[39m\u001b[22m\u001b[36m... 150 frames saved in directory:\n",
      "\t /var/folders/0n/rxl1scks0f19tnxt9pgjcs_40000gp/T/tmpEQ8DuV\n",
      "\u001b[39m\u001b[1m\u001b[36mINFO: \u001b[39m\u001b[22m\u001b[36mGIF is: images/bezier/bedtimemovie.gif\n",
      "\u001b[39m"
     ]
    },
    {
     "output_type": "execute_result",
     "data": {
      "text/plain": "true"
     },
     "metadata": {},
     "execution_count": 5
    }
   ],
   "cell_type": "code",
   "source": [
    "function frame(scene, framenumber)\n",
    "    background(\"white\")\n",
    "    eased_n = scene.easingfunction(framenumber, 0, 1, scene.framerange.stop)\n",
    "    sethue(\"red\")\n",
    "    triangle = ngon(O, 120, 3, vertices=true)\n",
    "    poly(triangle, :stroke, close=true)\n",
    "    sethue(\"black\")\n",
    "    bezierpath = makebezierpath(triangle)\n",
    "    newbezierpath = BezierPath()\n",
    "    for bps in bezierpath\n",
    "        push!(newbezierpath,\n",
    "            BezierPathSegment(bps.p1,\n",
    "             between(bps.cp1, bps.p1, eased_n),\n",
    "             between(bps.cp2, bps.p2, eased_n),\n",
    "             bps.p2))\n",
    "    end\n",
    "    for bps in newbezierpath\n",
    "        circle.(bps, 3, :fill)\n",
    "        line(bps.p1, bps.cp1, :stroke)\n",
    "        line(bps.cp2, bps.p2, :stroke)\n",
    "    end\n",
    "    drawbezierpath(newbezierpath, :stroke)\n",
    "end\n",
    "\n",
    "width, height = (256, 256)\n",
    "\n",
    "bedtimemovie = Movie(width, height, \"bedtimemovie\")\n",
    "# probably requires ffmpeg installed\n",
    "animate(bedtimemovie, [Scene(bedtimemovie, frame, 1:150, easingfunction=easeoutquad)], creategif=true, framerate=30, pathname=\"images/bezier/bedtimemovie.gif\")"
   ],
   "metadata": {},
   "execution_count": 5
  },
  {
   "outputs": [],
   "cell_type": "markdown",
   "source": [
    "# ![bedtime for Béziers](images/bezier/bedtimemovie.gif)"
   ],
   "metadata": {}
  },
  {
   "outputs": [],
   "cell_type": "markdown",
   "source": [
    "This is a process known to very young Adobe Illustrator users as ‘putting the Bézier handles to bed’."
   ],
   "metadata": {}
  },
  {
   "outputs": [],
   "cell_type": "markdown",
   "source": [
    "It's also fun to move the control points somewhere else. Here, they're multiplied by 2, while the first and last points are left unchanged:"
   ],
   "metadata": {}
  },
  {
   "outputs": [],
   "cell_type": "code",
   "source": [
    "@png begin\n",
    "    sethue(\"red\")\n",
    "    triangle = ngon(O, 100, 3, vertices=true)\n",
    "    poly(triangle, :stroke, close=true)\n",
    "\n",
    "    sethue(\"purple\")\n",
    "    bezierpath = makebezierpath(triangle)\n",
    "    drawbezierpath(bezierpath, :stroke)\n",
    "    sethue(\"magenta\")\n",
    "    for bps in bezierpath\n",
    "        bps = BezierPathSegment(bps[1], 2bps[2], 2bps[3], bps[4])\n",
    "        drawbezierpath(bps, :stroke)\n",
    "    end\n",
    "\n",
    "end 800 400 \"images/bezier/movecontrolpoints.png\""
   ],
   "metadata": {},
   "execution_count": 6
  },
  {
   "outputs": [],
   "cell_type": "markdown",
   "source": [
    "![moving control points](images/bezier/movecontrolpoints.png)"
   ],
   "metadata": {}
  },
  {
   "outputs": [],
   "cell_type": "markdown",
   "source": [
    "We could make even more copies, multiplying the control points each time through:"
   ],
   "metadata": {}
  },
  {
   "outputs": [],
   "cell_type": "code",
   "source": [
    "@png begin\n",
    "    setline(.5)\n",
    "    pgon = ngon(O, 100, 3, vertices=true)\n",
    "    bezierpath = makebezierpath(pgon)\n",
    "\n",
    "    for bpseg in bezierpath\n",
    "        for i in 1:20\n",
    "            bpseg.cp1 *= 1.05\n",
    "            bpseg.cp2 *= 1.05\n",
    "            drawbezierpath(bpseg, :stroke)\n",
    "        end\n",
    "    end\n",
    "end 800 400 \"images/bezier/movecontrolpointsmore.png\""
   ],
   "metadata": {},
   "execution_count": 7
  },
  {
   "outputs": [],
   "cell_type": "markdown",
   "source": [
    "![moving multiple control points](images/bezier/movecontrolpointsmore.png)"
   ],
   "metadata": {}
  },
  {
   "outputs": [],
   "cell_type": "markdown",
   "source": [
    "Try changing the initial triangle to a pentagon or heptagon by changing the `3` in `ngon()`. And try multiplying by less than 1.05 too..."
   ],
   "metadata": {}
  },
  {
   "outputs": [],
   "cell_type": "markdown",
   "source": [
    "Should you ever want to draw Bézier curves \"the hard way\", try this. The standard Bézier function is available in Luxor as `bezier()`, and we could draw a small hue-varying circle at each point:"
   ],
   "metadata": {}
  },
  {
   "outputs": [],
   "cell_type": "code",
   "source": [
    "@png begin\n",
    "    setopacity(0.6)\n",
    "    P1  = Point(-250, 0)\n",
    "    CP1 = Point(-200, -150)\n",
    "    CP2 = Point(200, -150)\n",
    "    P2  = Point(250, 0)\n",
    "    circle.([P1, CP1, CP2, P2], 3, :fill)\n",
    "\n",
    "    for u in 0.0:0.025:1.0\n",
    "        sethue(Colors.HSV(rescale(u, 0, 1, 0, 360), 1, 1))\n",
    "        pt = bezier(u, P1, CP1, CP2, P2)\n",
    "        circle(pt, 5, :fill)\n",
    "    end\n",
    "\n",
    "end 800 400 \"images/bezier/thehardway.png\""
   ],
   "metadata": {},
   "execution_count": 8
  },
  {
   "outputs": [],
   "cell_type": "markdown",
   "source": [
    "![bezier the hard way](images/bezier/thehardway.png)"
   ],
   "metadata": {}
  },
  {
   "outputs": [],
   "cell_type": "markdown",
   "source": [
    "What happens if you step `u` from say, -25.0 to 25.0? And is that supposed to happen? (Spoiler: the curve doubles back and shoots off to `(±∞/∞)`.)"
   ],
   "metadata": {}
  },
  {
   "outputs": [],
   "cell_type": "markdown",
   "source": [
    "## Out of control"
   ],
   "metadata": {}
  },
  {
   "outputs": [],
   "cell_type": "markdown",
   "source": [
    "Suppose you wanted to draw a Bézier curve but you didn't know where the control points were, but you did know a couple of points that should lie on the line? Again, Luxor has the answer for you, in the form of a function called `bezierfrompoints()`. You supply four points, and the function returns the points of the Bézier curve that passes through them."
   ],
   "metadata": {}
  },
  {
   "outputs": [],
   "cell_type": "code",
   "source": [
    "@png begin\n",
    "    sethue(\"grey80\")\n",
    "    box(O, 120, 100, :stroke)\n",
    "    corners = box(O, 120, 100, vertices=true)\n",
    "    label.([\"1\", \"2\",\"3\", \"4\"], :se, corners, offset=10)\n",
    "    sethue(\"red\")\n",
    "    circle.(corners, 5, :fill)\n",
    "\n",
    "    startpoint, cp1, cp2, endpoint  = bezierfrompoints(corners...)\n",
    "\n",
    "    sethue(\"purple\")\n",
    "    line(startpoint, cp1, :stroke)\n",
    "    line(endpoint, cp2, :stroke)\n",
    "\n",
    "    sethue(\"turquoise\")\n",
    "    circle.([cp1, cp2, startpoint, endpoint], 3, :fill)\n",
    "\n",
    "    sethue(\"blue\")\n",
    "    drawbezierpath(BezierPathSegment(startpoint, cp1, cp2, endpoint), :stroke)\n",
    "end 800 300 \"images/bezier/bezierfrompoints.png\""
   ],
   "metadata": {},
   "execution_count": 9
  },
  {
   "outputs": [],
   "cell_type": "markdown",
   "source": [
    "![bezier through four points](images/bezier/bezierfrompoints.png)"
   ],
   "metadata": {}
  },
  {
   "outputs": [],
   "cell_type": "markdown",
   "source": [
    "Note that this function returns all four points, but of course you already knew the first and last ones (in `corners`), you just wanted the two control points."
   ],
   "metadata": {}
  },
  {
   "outputs": [],
   "cell_type": "markdown",
   "source": [
    "## On the right path?"
   ],
   "metadata": {}
  },
  {
   "outputs": [],
   "cell_type": "markdown",
   "source": [
    "In Luxor the three main ways to make graphic lines and shapes are: *paths*, *polygons*, and *BezierPaths*. Paths are the fundamental building blocks of graphics, consisting of one or more sequences of straight and Bézier curves. A polygon is an array of points, which will be converted to a path when you draw it. And BezierPaths consist of a list of BezierPathSegments, which will also be converted to ordinary paths when they're drawn."
   ],
   "metadata": {}
  },
  {
   "outputs": [],
   "cell_type": "markdown",
   "source": [
    "It's useful to be able to convert between the different types:"
   ],
   "metadata": {}
  },
  {
   "outputs": [],
   "cell_type": "markdown",
   "source": [
    "|   Function                                   |  Converts                                   |\n",
    "|-----------------------------                 | ------------------------------------------- |\n",
    "|   `makebezierpath(pgon)`                     |  polygon to BezierPath                      |\n",
    "|   `pathtopoly()`                             |  current path to array of polygons          |\n",
    "|   `pathtobezierpaths()`                      |  current path to array of BezierPaths       |\n",
    "|   `beziertopoly(bpseg)`                      |  BezierPathSegment to polygon               |\n",
    "|   `bezierpathtopoly(bezierpath)`             |  BezierPath to polygon                      |\n",
    "|   `bezierfrompoints(p1, p2, p3, p4)`         |  convert four points to BezierPathSegment   |"
   ],
   "metadata": {}
  },
  {
   "outputs": [],
   "cell_type": "markdown",
   "source": [
    "## Can't draw a circle?"
   ],
   "metadata": {}
  },
  {
   "outputs": [],
   "cell_type": "markdown",
   "source": [
    "Having witnessed the ability of a simple Bézier curve to adopt so many shapes, it's a bit surprising to find out that you can't use a Bézier curve to draw a circle. Well, it can do a very good impression of one, of course, but mathematically it can't produce a purely circular curve. You can see this if you draw a *very* large circle and a *very* large matching Bézier segment. For a circle with radius 10 meters (and that's one big PDF), the discrepancy between the pure circle and the Bézier approximation isn't much bigger than the size of this period/full stop.←"
   ],
   "metadata": {}
  },
  {
   "outputs": [],
   "cell_type": "markdown",
   "source": [
    "We non-scientists are lucky in not having to worry about errors of this magnitude..."
   ],
   "metadata": {}
  },
  {
   "outputs": [],
   "cell_type": "markdown",
   "source": [
    "# ![a 10 metre circle](images/bezier/10metrecircle.png)"
   ],
   "metadata": {}
  },
  {
   "outputs": [],
   "cell_type": "markdown",
   "source": [
    "In the above picture, the red circle is made by `circle()`, the green one is made with Bézier curves (as used by `circlepath()` and `ellipse()`)."
   ],
   "metadata": {}
  },
  {
   "outputs": [],
   "cell_type": "markdown",
   "source": [
    "## “0.55228474983 is the magic number”"
   ],
   "metadata": {}
  },
  {
   "outputs": [],
   "cell_type": "markdown",
   "source": [
    "To draw approximate circles using Bézier curves, you need to know the magic number, usually called *kappa*, which has the value 0.552284.... We're looking at a Bézier curve pretending to be a circular quadrant, with control points positioned at a certain distance kappa from the end points. But how far? What value of kappa—what length of handle—will give us the most circular curve?"
   ],
   "metadata": {}
  },
  {
   "outputs": [],
   "cell_type": "markdown",
   "source": [
    "A picture of the problem, using a deliberately not-very-good guess at a value for *kappa* of 0.5:"
   ],
   "metadata": {}
  },
  {
   "outputs": [],
   "cell_type": "code",
   "source": [
    "@png begin\n",
    "    scale(3)\n",
    "    fontsize(7)\n",
    "    translate(0, -50)\n",
    "    setline(1)\n",
    "\n",
    "    radius = 100\n",
    "\n",
    "    kappa_guess = .5\n",
    "\n",
    "    sethue(\"red\")\n",
    "    arc(O, radius, 0, pi/2, :stroke)\n",
    "\n",
    "    sethue(\"black\")\n",
    "    quadrant = BezierPathSegment(\n",
    "        Point(0, radius),\n",
    "        Point(kappa_guess * radius, radius),\n",
    "        Point(radius, kappa_guess * radius),\n",
    "        Point(radius, 0))\n",
    "    circle.(quadrant, 1, :fill)\n",
    "    arrow(quadrant.p1, quadrant.cp1, arrowheadlength=5)\n",
    "    arrow(quadrant.p2, quadrant.cp2, arrowheadlength=5)\n",
    "\n",
    "    drawbezierpath(quadrant, :stroke)\n",
    "\n",
    "    arrow(O, bezier(0.5, quadrant...))\n",
    "\n",
    "    label.([\"(0, 1)\", \"(k, 1)\", \"(1, k)\", \"(1, 0)\"], [:S, :S, :E, :E], quadrant)\n",
    "    label(\"kappa_guess = 0.5\", :S, midpoint(quadrant.p1, quadrant.cp1), offset=15)\n",
    "end 800 450 \"images/bezier/kappaguess.png\""
   ],
   "metadata": {},
   "execution_count": 10
  },
  {
   "outputs": [],
   "cell_type": "markdown",
   "source": [
    "![guessing at kappa](images/bezier/kappaguess.png)"
   ],
   "metadata": {}
  },
  {
   "outputs": [],
   "cell_type": "markdown",
   "source": [
    "To solve this, we'll define a function that takes a value for `kappa` and works out the radius at the center of the Bézier curve."
   ],
   "metadata": {}
  },
  {
   "outputs": [
    {
     "output_type": "execute_result",
     "data": {
      "text/plain": "radiusofbezier (generic function with 1 method)"
     },
     "metadata": {},
     "execution_count": 11
    }
   ],
   "cell_type": "code",
   "source": [
    "_radiusofbezier(kappa) = norm(O,\n",
    "    bezier(0.5, BezierPathSegment(\n",
    "        Point(0, 1),\n",
    "        Point(kappa * 1, 1),\n",
    "        Point(1, kappa * 1),\n",
    "        Point(1, 0)\n",
    "        )...))\n",
    "\n",
    "radiusofbezier(x) = _radiusofbezier(x) - 1"
   ],
   "metadata": {},
   "execution_count": 11
  },
  {
   "outputs": [],
   "cell_type": "markdown",
   "source": [
    "And we'll use one of the many excellent packages in [JuliaMath](https://github.com/JuliaMath/), Roots.jl, to find the zero point:"
   ],
   "metadata": {}
  },
  {
   "outputs": [
    {
     "name": "stdout",
     "output_type": "stream",
     "text": [
      "Results of univariate zero finding:\n",
      "\n",
      "* Converged to: 0.5522847498307936\n",
      "* Algorithm: Roots.Bisection64()\n",
      "* iterations: 59\n",
      "* function evaluations: 61\n",
      "* stopped as |f(x_n)| ≤ max(δ, max(1,|x|)⋅ϵ) using δ = atol, ϵ = rtol\n",
      "\n",
      "Trace:\n",
      "x_0 =  0.0000000000000000,\t f(x_0) = -0.2928932188134524\n",
      "x_1 =  0.0000000000000000,\t f(x_1) = -0.2928932188134524\n",
      "x_2 =  0.0000000000000000,\t f(x_2) = -0.2928932188134524\n",
      "x_3 =  0.0000000000000000,\t f(x_3) = -0.2928932188134524\n",
      "x_4 =  0.0000000000000000,\t f(x_4) = -0.2928932188134524\n",
      "x_5 =  0.0000000002401066,\t f(x_5) = -0.2928932186861167\n",
      "x_6 =  0.0000154972076416,\t f(x_6) = -0.2928850001779929\n",
      "x_7 =  0.0039367675781250,\t f(x_7) = -0.2908054325256169\n",
      "x_8 =  0.0627441406250000,\t f(x_8) = -0.2596181133267076\n",
      "x_9 =  0.2504882812500000,\t f(x_9) = -0.1600517471037238\n",
      "x_10 =  0.5004882812500000,\t f(x_10) = -0.0274692256312462\n",
      "x_11 =  0.5004882812500000,\t f(x_11) = -0.0274692256312462\n",
      "x_12 =  0.5004882812500000,\t f(x_12) = -0.0274692256312462\n",
      "x_13 =  0.5004882812500000,\t f(x_13) = -0.0274692256312462\n",
      "x_14 =  0.5317077636718750,\t f(x_14) = -0.0109125948370147\n",
      "x_15 =  0.5473175048828125,\t f(x_15) = -0.0026342794398989\n",
      "x_16 =  0.5473175048828125,\t f(x_16) = -0.0026342794398989\n",
      "x_17 =  0.5512199401855469,\t f(x_17) = -0.0005647005906200\n",
      "x_18 =  0.5512199401855469,\t f(x_18) = -0.0005647005906200\n",
      "x_19 =  0.5521955490112305,\t f(x_19) = -0.0000473058783003\n",
      "x_20 =  0.5521955490112305,\t f(x_20) = -0.0000473058783003\n",
      "x_21 =  0.5521955490112305,\t f(x_21) = -0.0000473058783003\n",
      "x_22 =  0.5521955490112305,\t f(x_22) = -0.0000473058783003\n",
      "x_23 =  0.5522565245628357,\t f(x_23) = -0.0000149687087803\n",
      "x_24 =  0.5522565245628357,\t f(x_24) = -0.0000149687087803\n",
      "x_25 =  0.5522717684507370,\t f(x_25) = -0.0000068844164003\n",
      "x_26 =  0.5522793903946877,\t f(x_26) = -0.0000028422702103\n",
      "x_27 =  0.5522832013666630,\t f(x_27) = -0.0000008211971153\n",
      "x_28 =  0.5522832013666630,\t f(x_28) = -0.0000008211971153\n",
      "x_29 =  0.5522841541096568,\t f(x_29) = -0.0000003159288415\n",
      "x_30 =  0.5522846304811537,\t f(x_30) = -0.0000000632947047\n",
      "x_31 =  0.5522846304811537,\t f(x_31) = -0.0000000632947047\n",
      "x_32 =  0.5522847495740280,\t f(x_32) = -0.0000000001361705\n",
      "x_33 =  0.5522847495740280,\t f(x_33) = -0.0000000001361705\n",
      "x_34 =  0.5522847495740280,\t f(x_34) = -0.0000000001361705\n",
      "x_35 =  0.5522847495740280,\t f(x_35) = -0.0000000001361705\n",
      "x_36 =  0.5522847495740280,\t f(x_36) = -0.0000000001361705\n",
      "x_37 =  0.5522847495740280,\t f(x_37) = -0.0000000001361705\n",
      "x_38 =  0.5522847495740280,\t f(x_38) = -0.0000000001361705\n",
      "x_39 =  0.5522847495740280,\t f(x_39) = -0.0000000001361705\n",
      "x_40 =  0.5522847495740280,\t f(x_40) = -0.0000000001361705\n",
      "x_41 =  0.5522847498066312,\t f(x_41) = -0.0000000000128140\n",
      "x_42 =  0.5522847498066312,\t f(x_42) = -0.0000000000128140\n",
      "x_43 =  0.5522847498066312,\t f(x_43) = -0.0000000000128140\n",
      "x_44 =  0.5522847498066312,\t f(x_44) = -0.0000000000128140\n",
      "x_45 =  0.5522847498211689,\t f(x_45) = -0.0000000000051041\n",
      "x_46 =  0.5522847498284378,\t f(x_46) = -0.0000000000012493\n",
      "x_47 =  0.5522847498284378,\t f(x_47) = -0.0000000000012493\n",
      "x_48 =  0.5522847498302550,\t f(x_48) = -0.0000000000002855\n",
      "x_49 =  0.5522847498302550,\t f(x_49) = -0.0000000000002855\n",
      "x_50 =  0.5522847498307093,\t f(x_50) = -0.0000000000000447\n",
      "x_51 =  0.5522847498307093,\t f(x_51) = -0.0000000000000447\n",
      "x_52 =  0.5522847498307093,\t f(x_52) = -0.0000000000000447\n",
      "x_53 =  0.5522847498307660,\t f(x_53) = -0.0000000000000145\n",
      "x_54 =  0.5522847498307660,\t f(x_54) = -0.0000000000000145\n",
      "x_55 =  0.5522847498307802,\t f(x_55) = -0.0000000000000070\n",
      "x_56 =  0.5522847498307873,\t f(x_56) = -0.0000000000000032\n",
      "x_57 =  0.5522847498307909,\t f(x_57) = -0.0000000000000013\n",
      "x_58 =  0.5522847498307927,\t f(x_58) = -0.0000000000000004\n",
      "x_59 =  0.5522847498307936,\t f(x_59) =  0.0000000000000000\n",
      "\n"
     ]
    },
    {
     "output_type": "execute_result",
     "data": {
      "text/plain": "0.5522847498307936"
     },
     "metadata": {},
     "execution_count": 12
    }
   ],
   "cell_type": "code",
   "source": [
    "using Roots\n",
    "find_zero(radiusofbezier, (0, 1), verbose=true)"
   ],
   "metadata": {},
   "execution_count": 12
  },
  {
   "outputs": [],
   "cell_type": "markdown",
   "source": [
    "So that's `kappa`."
   ],
   "metadata": {}
  },
  {
   "outputs": [],
   "cell_type": "markdown",
   "source": [
    "Alternatively, we can use algebraic sorcery and the parametric equation for the Bézier cubic function to conjure the value from the following incantations:"
   ],
   "metadata": {}
  },
  {
   "outputs": [],
   "cell_type": "markdown",
   "source": [
    "$$\n",
    " \\begin{equation}\n",
    " \\mathbf{p1} = (0, 1)                                                                                               \\\\\\\n",
    " \\mathbf{cp1} = (k, 1)                                                                                              \\\\\\\n",
    " \\mathbf{cp2} = (1, k)                                                                                              \\\\\\\n",
    " \\mathbf{p2} = (1, 0)                                                                                               \\\\\\\n",
    " B(u) = \\mathbf{p1}(1 - u)³ + \\mathbf{cp1} 3u(1 - u)² + \\mathbf{cp2}3u²(1 - u) + \\mathbf{p2} u³ \\\\\\\n",
    " u = 0.5                                                                                                            \\\\\\\n",
    "\\sqrt{0.5}  = \\frac{\\mathbf{p1}}{8} + \\frac{3\\mathbf{cp1}}{8} + \\frac{3\\mathbf{cp2}}{8} + \\frac{\\mathbf{p2}}{}      \\\\\\\n",
    "x: \\sqrt{0.5}  = \\frac{0}{8} + \\frac{3 k}{8} + \\frac{3}{8} + \\frac{1}{8}                                            \\\\\\\n",
    "y: \\sqrt{0.5}  = \\frac{1}{8} + \\frac{3 }{8} + \\frac{3 k}{8} + \\frac{0}{8}                                           \\\\\\\n",
    "\\frac{\\sqrt{2}}{2} = 3  \\frac{k}{8} + \\frac{4}{8}                                                                   \\\\\\\n",
    "\\sqrt{2} = 3  \\frac{k}{4} + \\frac{4}{4}                                                                             \\\\\\\n",
    " \\sqrt{2} = 3  \\frac{k}{4} + 1                                                                                      \\\\\\\n",
    " \\sqrt{2} - 1 = 3  \\frac{k}{4}                                                                                      \\\\\\\n",
    "3 k  = 4  (\\sqrt{2} - 1)                                                                                            \\\\\\\n",
    "k = \\frac{4}{3}  (\\sqrt{2} - 1)                                                                                     \\\\\\\n",
    "k = 0.5522847498307936                                                                                              \\\\\\\n",
    "\\end{equation}\n",
    "$$"
   ],
   "metadata": {}
  },
  {
   "outputs": [],
   "cell_type": "markdown",
   "source": [
    "I suspect most applications simply hard-code the magic number 0.552284... directly."
   ],
   "metadata": {}
  },
  {
   "outputs": [],
   "cell_type": "markdown",
   "source": [
    "The following code shows how we could animate the process of changing the length of the handles by changing the value of kappa. Blink and you'll miss the sweet spot, though, and the movement of the handles is imperceptible, so perhaps this isn't the best way of illustrating the construction."
   ],
   "metadata": {}
  },
  {
   "outputs": [
    {
     "name": "stdout",
     "output_type": "stream",
     "text": [
      "WARNING: Method definition frame(Any, Any) in module ##2591 at string:2 overwritten at string:2.\n",
      "\u001b[1m\u001b[36mINFO: \u001b[39m\u001b[22m\u001b[36mFrames for animation \"circlefrombezier\" are being stored in directory: \n",
      "\t /var/folders/0n/rxl1scks0f19tnxt9pgjcs_40000gp/T/tmpMjwlkL\n",
      "\u001b[39m\u001b[1m\u001b[33mWARNING: \u001b[39m\u001b[22m\u001b[33mMovie framerange is longer than scene frame range: \n",
      "\t 1:250 > 150\u001b[39m\n",
      "\u001b[1m\u001b[36mINFO: \u001b[39m\u001b[22m\u001b[36m... 150 frames saved in directory:\n",
      "\t /var/folders/0n/rxl1scks0f19tnxt9pgjcs_40000gp/T/tmpMjwlkL\n",
      "\u001b[39m\u001b[1m\u001b[36mINFO: \u001b[39m\u001b[22m\u001b[36mGIF is: images/bezier/circlefrombezier.gif\n",
      "\u001b[39m"
     ]
    },
    {
     "output_type": "execute_result",
     "data": {
      "text/plain": "true"
     },
     "metadata": {},
     "execution_count": 13
    }
   ],
   "cell_type": "code",
   "source": [
    "function frame(scene, framenumber)\n",
    "    background(\"white\")\n",
    "    eased_n = scene.easingfunction(framenumber, 0, 1, scene.framerange.stop)\n",
    "\n",
    "    radius = 250\n",
    "    setline(1)\n",
    "    sethue(\"black\")\n",
    "    kappa = rescale(eased_n, 0, 1, 0.525, 0.575)\n",
    "\n",
    "    handlelength = (radius/2)  * kappa\n",
    "\n",
    "    left   = Point(-radius/2, 0)\n",
    "    top    = Point(0,        -radius/2)\n",
    "    right  = Point(radius/2,  0)\n",
    "    bottom = Point(0,         radius/2)\n",
    "\n",
    "    line(left, left + (0, -handlelength), :stroke)\n",
    "    line(top + (-handlelength, 0), top, :stroke)\n",
    "    circle.([left, top, right, bottom], 2, :fill)\n",
    "    circle.([left + (0, -handlelength), top + (-handlelength, 0)], 2, :fill)\n",
    "\n",
    "    line(left, left + (0, -handlelength), :stroke)\n",
    "    line(top + (-handlelength, 0), top, :stroke)\n",
    "    circle.([left, top, right, bottom], 2, :fill)\n",
    "    circle.([left + (0, -handlelength), top + (-handlelength, 0)], 2, :fill)\n",
    "\n",
    "    move(left)\n",
    "    curve(left   + (0, -handlelength),\n",
    "          top    + (-handlelength, 0),\n",
    "          top)\n",
    "    curve(top    + (handlelength, 0),\n",
    "          right  + (0, -handlelength),\n",
    "          right)\n",
    "    curve(right  + (0, handlelength),\n",
    "          bottom + (handlelength, 0),\n",
    "          bottom)\n",
    "    curve(bottom + (-handlelength, 0),\n",
    "          left   + (0, handlelength),\n",
    "          left)\n",
    "\n",
    "    if isapprox(kappa, 0.55228, atol=0.001)\n",
    "        sethue(\"red\")\n",
    "        fillpath()\n",
    "        sethue(\"black\")\n",
    "    else\n",
    "        strokepath()\n",
    "    end\n",
    "    fontface(\"Menlo\")\n",
    "    fontsize(20)\n",
    "    text(string(round(kappa, 4)), halign=:center)\n",
    "end\n",
    "width, height = (400, 400)\n",
    "circlefrombezier = Movie(width, height, \"circlefrombezier\")\n",
    "animate(circlefrombezier, [Scene(circlefrombezier, frame, 1:150, easingfunction=easeoutquad)], creategif=true, framerate=30, pathname=\"images/bezier/circlefrombezier.gif\")"
   ],
   "metadata": {},
   "execution_count": 13
  },
  {
   "outputs": [],
   "cell_type": "markdown",
   "source": [
    "# ![kappa value animation](images/bezier/circlefrombezier.gif)"
   ],
   "metadata": {}
  },
  {
   "outputs": [],
   "cell_type": "markdown",
   "source": [
    "Luxor already provides a `Luxor.circlepath()` function that uses four Bézier curve segments to build a path that draws a circle. The main advantage of using this instead of the default `arc`-based circle is that it's easier to build circles with holes:"
   ],
   "metadata": {}
  },
  {
   "outputs": [],
   "cell_type": "code",
   "source": [
    "@png begin\n",
    "    background(\"moccasin\")\n",
    "    sethue(\"darkorange\")\n",
    "    circlepath(O, 200, :path)\n",
    "\n",
    "    newsubpath()\n",
    "    circlepath(O + (100, -40), 70, :path, reversepath=true)\n",
    "\n",
    "    newsubpath()\n",
    "    circlepath(O - (100, 40), 70, :path, reversepath=true)\n",
    "\n",
    "    fillpreserve()\n",
    "    setline(8)\n",
    "    sethue(\"skyblue\")\n",
    "    strokepath()\n",
    "end 800 500 \"images/bezier/circularpaths.png\""
   ],
   "metadata": {},
   "execution_count": 14
  },
  {
   "outputs": [],
   "cell_type": "markdown",
   "source": [
    "![circular paths](images/bezier/circularpaths.png)"
   ],
   "metadata": {}
  },
  {
   "outputs": [],
   "cell_type": "markdown",
   "source": [
    "## Detour into Typomania"
   ],
   "metadata": {}
  },
  {
   "outputs": [],
   "cell_type": "markdown",
   "source": [
    "In practice, not being able to draw perfect circles with Bezier curves isn't a big problem. Font designers (you knew this was going to go ‘all typographical’ sooner or later) are big users of Bézier curves, and typically they don't like drawing perfect circles anyway, because of the optical corrections required to make things ‘look right’."
   ],
   "metadata": {}
  },
  {
   "outputs": [],
   "cell_type": "markdown",
   "source": [
    "There are a number of optical illusions that demonstrate that the human eye and the brain don't always see reality accurately. The following is one of the simplest, but most people would be prepared to bet that the horizontal bar is thicker and shorter than the vertical bar. I had to draw a grid to double-check..."
   ],
   "metadata": {}
  },
  {
   "outputs": [],
   "cell_type": "code",
   "source": [
    "@png begin\n",
    "    background(\"white\")\n",
    "\n",
    "    sethue(\"gray90\")\n",
    "    g = GridRect(BoundingBox()[1], 15, 15, 30 * 20, 30 * 20)\n",
    "    for i in 1:1600\n",
    "        circle(nextgridpoint(g), 0.5, :fill)\n",
    "    end\n",
    "\n",
    "    b = box(O - (15, -60), O + (15, -60), vertices=true)\n",
    "\n",
    "    sethue(\"black\")\n",
    "    poly(b, :fill)\n",
    "    translate(0, -90)\n",
    "    rotate(pi/2)\n",
    "    poly(b, :fill)\n",
    "\n",
    "end 300 300 \"images/bezier/opticalillusion.png\""
   ],
   "metadata": {},
   "execution_count": 15
  },
  {
   "outputs": [],
   "cell_type": "markdown",
   "source": [
    "![simple illusion](images/bezier/opticalillusion.png)"
   ],
   "metadata": {}
  },
  {
   "outputs": [],
   "cell_type": "markdown",
   "source": [
    "It's something to do with how our eyes, set side by side and trained to move side to side horizontally with great speed and precision, underestimate width. Type designers spend much of their time adjusting the relative widths and thicknesses of letter shapes so that illusions like this are compensated for in advance. What happens if you turn your display on its side (apart from possibly spilling your coffee)?"
   ],
   "metadata": {}
  },
  {
   "outputs": [],
   "cell_type": "markdown",
   "source": [
    "Here's a short script to examine the bounding boxes of the inner and outer loops of the letter ‘o’ in various fonts."
   ],
   "metadata": {}
  },
  {
   "outputs": [],
   "cell_type": "code",
   "source": [
    "function drawletteraspect(pos, font, thefontsize, str)\n",
    "    @layer begin\n",
    "        translate(pos)\n",
    "        translate(-thefontsize/3, 0)\n",
    "        fontsize(thefontsize)\n",
    "        fontface(font)\n",
    "        sethue(\"gray40\")\n",
    "        setline(0.5)\n",
    "        text(str)\n",
    "        newpath()\n",
    "        textpath(str)\n",
    "        o = pathtopoly()\n",
    "        @layer begin\n",
    "            fontsize(thefontsize/20)\n",
    "            text(font, Point(0, thefontsize/15))\n",
    "            sethue(\"magenta\")\n",
    "            fontface(\"Cousine-Bold\")\n",
    "            n = 0\n",
    "            for i in o\n",
    "                b = BoundingBox(i)\n",
    "                text(string(round(boxaspectratio(b), 4)), midpoint(b...) + (0, n), halign=:center)\n",
    "                n += thefontsize/20\n",
    "                box(b, :stroke)\n",
    "            end\n",
    "        end\n",
    "    end\n",
    "end\n",
    "\n",
    "@png begin\n",
    "    fonts = [\n",
    "        \"ArialUnicodeMS\",\n",
    "        \"AvantGarde-Book\",\n",
    "        \"BauhausLT-Light\",\n",
    "        \"CircularStd-Book\",\n",
    "        \"Cousine\",\n",
    "        \"FuturaLT-Book\",\n",
    "        \"GillSansMTPro-Book\",\n",
    "        \"GothamBlack\",\n",
    "        \"Helvetica\",\n",
    "        \"KabelLTStd-Light\",\n",
    "        \"ProximaNova-Bold\",\n",
    "        \"Times-Roman\",\n",
    "    ]\n",
    "    tiles = Tiler(800, 400, 3, 4, margin=40)\n",
    "    for (pos, n) in tiles\n",
    "        drawletteraspect(pos, fonts[mod1(n, length(fonts))], 150, \"o\")\n",
    "    end\n",
    "end 800 400 \"images/bezier/drawletteraspect.png\""
   ],
   "metadata": {},
   "execution_count": 16
  },
  {
   "outputs": [],
   "cell_type": "markdown",
   "source": [
    "![aspect ratios of letter O](images/bezier/drawletteraspect.png)"
   ],
   "metadata": {}
  },
  {
   "outputs": [],
   "cell_type": "markdown",
   "source": [
    "The fonts on your system will be different, of course."
   ],
   "metadata": {}
  },
  {
   "outputs": [],
   "cell_type": "markdown",
   "source": [
    "## The story of “o”"
   ],
   "metadata": {}
  },
  {
   "outputs": [],
   "cell_type": "markdown",
   "source": [
    "I wondered which fonts used the most circular circles for the letter “o”. This script wanders through all the fonts registered with Fontconfig and stores the bounding boxes of the letter “o”, then finds “the most circular”."
   ],
   "metadata": {}
  },
  {
   "outputs": [
    {
     "output_type": "execute_result",
     "data": {
      "text/plain": "true"
     },
     "metadata": {},
     "execution_count": 17
    }
   ],
   "cell_type": "code",
   "source": [
    "using Fontconfig, Luxor, DataFrames\n",
    "\n",
    "function buildfontlist()\n",
    "    fonts = []\n",
    "    for font in Fontconfig.list()\n",
    "        families = Fontconfig.format(font, \"%{family}\")\n",
    "        for family in split(families, \",\")\n",
    "            push!(fonts, family)\n",
    "        end\n",
    "    end\n",
    "    filter!(font -> !startswith(font, \".\"), fonts)\n",
    "    filter!(font -> !contains(font, r\"Wing.*\"), fonts)\n",
    "    filter!(font -> !contains(font, r\".*Extra\"), fonts)\n",
    "    filter!(font -> !contains(font, r\".*Expert\"), fonts)\n",
    "    return sort(unique(fonts))\n",
    "end\n",
    "\n",
    "mutable struct Score\n",
    "    fontname::String\n",
    "    bbox1::BoundingBox\n",
    "    bbox2::BoundingBox\n",
    "end\n",
    "\n",
    "scores = Score[]\n",
    "\n",
    "# we have to have a drawing open, otherwise textpath() doesn't know where to turn\n",
    "\n",
    "Drawing(100, 100, \"/tmp/emptydrawing.png\")\n",
    "fontlist = unique(buildfontlist())\n",
    "fontsize(20)\n",
    "\n",
    "for font in fontlist\n",
    "    fontface(font)\n",
    "    newpath() # !!!!\n",
    "    textpath(\"o\")\n",
    "    o = pathtopoly()\n",
    "    bboxes = BoundingBox[]\n",
    "    for i in o\n",
    "        push!(bboxes, BoundingBox(i))\n",
    "    end\n",
    "    if length(bboxes) == 2\n",
    "        push!(scores, Score(font, bboxes[1], bboxes[2]))\n",
    "    end\n",
    "end\n",
    "finish() # unused drawing"
   ],
   "metadata": {},
   "execution_count": 17
  },
  {
   "outputs": [],
   "cell_type": "markdown",
   "source": [
    "To analyse the results, we'll put everything into a DataFrame."
   ],
   "metadata": {}
  },
  {
   "outputs": [
    {
     "output_type": "execute_result",
     "data": {
      "text/plain": "1018×5 DataFrames.DataFrame. Omitted printing of 1 columns\n│ Row  │ Fontname                       │ Outer    │ Inner   │ Total        │\n├──────┼────────────────────────────────┼──────────┼─────────┼──────────────┤\n│ 1    │ Kabel LT Std Light             │ 1.0      │ 1.0     │ 0.0          │\n│ 2    │ ITC Avant Garde Std XLt        │ 0.9965   │ 1.0035  │ -2.04211e-7  │\n│ 3    │ Kabel LT Std Black             │ 1.0      │ 1.00101 │ -0.000503525 │\n│ 4    │ Gill Sans                      │ 0.972742 │ 1.02949 │ -0.00111546  │\n│ 5    │ Gill Sans MT Pro Medium        │ 0.972742 │ 1.02949 │ -0.00111546  │\n│ 6    │ ITC Avant Garde Gothic Std     │ 0.993158 │ 1.01428 │ -0.00371842  │\n│ 7    │ ITC Avant Garde Std Bk         │ 0.993158 │ 1.01428 │ -0.00371842  │\n│ 8    │ ITC Avant Garde Std Md         │ 0.991246 │ 1.021   │ -0.00612158  │\n⋮\n│ 1010 │ AmplitudeComp-Ultra            │ 1.52721  │ 6.41949 │ -2.97335     │\n│ 1011 │ Industria LT Std Solid         │ 2.62973  │ 5.72823 │ -3.17898     │\n│ 1012 │ Bernard MT Condensed           │ 1.5877   │ 7.55733 │ -3.57252     │\n│ 1013 │ Impact                         │ 1.4851   │ 7.6678  │ -3.57645     │\n│ 1014 │ HeadLineA                      │ 1.6      │ 8.34783 │ -3.97391     │\n│ 1015 │ Univers LT Std 39 Thin UltraCn │ 3.69307  │ 6.81657 │ -4.25482     │\n│ 1016 │ Helvetica LT Std ExtCompressed │ 1.9595   │ 8.82251 │ -4.39101     │\n│ 1017 │ Gill Sans MT Pro Bold ExtCond  │ 2.70499  │ 9.1913  │ -4.94815     │\n│ 1018 │ Helvetica LT Std UltCompressed │ 2.46103  │ 9.71489 │ -5.08796     │",
      "text/html": [
       "<table class=\"data-frame\"><thead><tr><th></th><th>Fontname</th><th>Outer</th><th>Inner</th><th>Total</th><th>Mean</th></tr></thead><tbody><tr><th>1</th><td>Kabel LT Std Light</td><td>1.0</td><td>1.0</td><td>0.0</td><td>1.0</td></tr><tr><th>2</th><td>ITC Avant Garde Std XLt</td><td>0.9965</td><td>1.0035</td><td>-2.04211e-7</td><td>1.0</td></tr><tr><th>3</th><td>Kabel LT Std Black</td><td>1.0</td><td>1.00101</td><td>-0.000503525</td><td>1.0005</td></tr><tr><th>4</th><td>Gill Sans</td><td>0.972742</td><td>1.02949</td><td>-0.00111546</td><td>1.00112</td></tr><tr><th>5</th><td>Gill Sans MT Pro Medium</td><td>0.972742</td><td>1.02949</td><td>-0.00111546</td><td>1.00112</td></tr><tr><th>6</th><td>ITC Avant Garde Gothic Std</td><td>0.993158</td><td>1.01428</td><td>-0.00371842</td><td>1.00372</td></tr><tr><th>7</th><td>ITC Avant Garde Std Bk</td><td>0.993158</td><td>1.01428</td><td>-0.00371842</td><td>1.00372</td></tr><tr><th>8</th><td>ITC Avant Garde Std Md</td><td>0.991246</td><td>1.021</td><td>-0.00612158</td><td>1.00612</td></tr><tr><th>9</th><td>Avenir Heavy</td><td>0.965208</td><td>1.02078</td><td>0.00700837</td><td>0.992992</td></tr><tr><th>10</th><td>DIN 30640 Std</td><td>0.966066</td><td>1.01366</td><td>0.010139</td><td>0.989861</td></tr><tr><th>11</th><td>DIN Neuzeit Grotesk Std Light</td><td>0.966066</td><td>1.01366</td><td>0.010139</td><td>0.989861</td></tr><tr><th>12</th><td>Courier New</td><td>0.988927</td><td>0.986501</td><td>0.0122864</td><td>0.987714</td></tr><tr><th>13</th><td>BaseMono</td><td>0.983922</td><td>1.04178</td><td>-0.0128503</td><td>1.01285</td></tr><tr><th>14</th><td>ITC Kabel Std Medium</td><td>0.976604</td><td>0.99728</td><td>0.0130582</td><td>0.986942</td></tr><tr><th>15</th><td>Gill Sans Shadowed MT Pro</td><td>1.00812</td><td>1.01975</td><td>-0.0139357</td><td>1.01394</td></tr><tr><th>16</th><td>Gill Sans Shadowed MT Pro Light</td><td>1.00812</td><td>1.01975</td><td>-0.0139357</td><td>1.01394</td></tr><tr><th>17</th><td>Bauhaus 93</td><td>0.989703</td><td>1.03878</td><td>-0.0142418</td><td>1.01424</td></tr><tr><th>18</th><td>Kabel LT Std</td><td>1.02945</td><td>1.0</td><td>-0.014727</td><td>1.01473</td></tr><tr><th>19</th><td>Kabel LT Std Book</td><td>1.02945</td><td>1.0</td><td>-0.014727</td><td>1.01473</td></tr><tr><th>20</th><td>Avenir Black</td><td>0.944304</td><td>1.02522</td><td>0.0152362</td><td>0.984764</td></tr><tr><th>21</th><td>Avenir LT Std 35 Light</td><td>0.999598</td><td>1.03255</td><td>-0.0160745</td><td>1.01607</td></tr><tr><th>22</th><td>Avenir Light</td><td>0.999598</td><td>1.03255</td><td>-0.0160745</td><td>1.01607</td></tr><tr><th>23</th><td>Avenir LT Std</td><td>0.983984</td><td>1.04824</td><td>-0.0161098</td><td>1.01611</td></tr><tr><th>24</th><td>Avenir LT Std 55 Roman</td><td>0.983984</td><td>1.04824</td><td>-0.0161098</td><td>1.01611</td></tr><tr><th>&vellip;</th><td>&vellip;</td><td>&vellip;</td><td>&vellip;</td><td>&vellip;</td><td>&vellip;</td></tr></tbody></table>"
      ]
     },
     "metadata": {},
     "execution_count": 18
    }
   ],
   "cell_type": "code",
   "source": [
    "df = DataFrame(\n",
    "    Fontname = String[],  # font name\n",
    "    Outer    = Float64[], # outer aspect ratio\n",
    "    Inner    = Float64[], # inner loop aspect ratio\n",
    "    Total    = Float64[],\n",
    "    Mean     = Float64[]\n",
    "    )\n",
    "\n",
    "for f in scores\n",
    "    push!(df, [f.fontname,\n",
    "               boxaspectratio(f.bbox1),\n",
    "               boxaspectratio(f.bbox2),\n",
    "               1 - (boxaspectratio(f.bbox1) + boxaspectratio(f.bbox2))/2,\n",
    "               mean([boxaspectratio(f.bbox1),\n",
    "                     boxaspectratio(f.bbox2)])\n",
    "              ])\n",
    "end\n",
    "\n",
    "sort!(df, :Total, lt = (a, b) -> abs(a) < abs(b))"
   ],
   "metadata": {},
   "execution_count": 18
  },
  {
   "outputs": [],
   "cell_type": "markdown",
   "source": [
    "Few typefaces are perfectly circular. Even [Circular](http://typographica.org/typeface-reviews/ll-circular/), LineTo's trendy geometric sans typeface, isn't perfectly circular."
   ],
   "metadata": {}
  },
  {
   "outputs": [],
   "cell_type": "markdown",
   "source": [
    "Most of the least circular ones, according to this rough examination, are in the Condensed and Compressed sections of the font libraries. No surprise, Sherlock."
   ],
   "metadata": {}
  },
  {
   "outputs": [],
   "cell_type": "code",
   "source": [
    "display(df[end-10:end, :])\n",
    "\n",
    "\n",
    "t = Table(2, 5, 170, 140)\n",
    "@png begin\n",
    "    for (n, f) in enumerate(df[end-9:end, 1])\n",
    "        fontsize(60)\n",
    "        fontface(f)\n",
    "        text(\"O\", t[n], halign=:center)\n",
    "        fontsize(14)\n",
    "        text(f, t[n] + (0, 40), halign=:center)\n",
    "    end\n",
    "end 800 250 \"images/bezier/leastcircularfonts.png\""
   ],
   "metadata": {},
   "execution_count": 19
  },
  {
   "outputs": [],
   "cell_type": "markdown",
   "source": [
    "![some of the least circular fonts](images/bezier/leastcircularfonts.png)"
   ],
   "metadata": {}
  },
  {
   "outputs": [],
   "cell_type": "markdown",
   "source": [
    "The most circular ones on my computer are the classic geometric sans serif fonts."
   ],
   "metadata": {}
  },
  {
   "outputs": [],
   "cell_type": "code",
   "source": [
    "display(df[1:10, :])\n",
    "\n",
    "\n",
    "t = Table(2, 5, 160, 140)\n",
    "@png begin\n",
    "    for (n, f) in enumerate(df[1:10, 1])\n",
    "        fontsize(50)\n",
    "        fontface(f)\n",
    "        text(\"O\", t[n], halign=:center)\n",
    "        fontsize(11)\n",
    "        text(f, t[n] + (0, 50), halign=:center)\n",
    "    end\n",
    "end 800 300 \"images/bezier/mostcircularfonts.png\""
   ],
   "metadata": {},
   "execution_count": 20
  },
  {
   "outputs": [],
   "cell_type": "markdown",
   "source": [
    "![the most circular fonts](images/bezier/mostcircularfonts.png)"
   ],
   "metadata": {}
  },
  {
   "outputs": [],
   "cell_type": "markdown",
   "source": [
    "In the ‘most circular o’ fonts, there are a few examples from Rudolf Koch's Kabel family."
   ],
   "metadata": {}
  },
  {
   "outputs": [],
   "cell_type": "code",
   "source": [
    "kabel = df[[contains(fontname, r\".*Kabel.*\") for fontname in df[:Fontname]], :]\n",
    "\n",
    "\n",
    "# that's v0.6 syntax... v0.7 is df[[occursin(r\".*Kabel.*\", fname) for fname  in df[:Name]], :]\n",
    "\n",
    "t = Table(2, 5, 160, 140)\n",
    "@png begin\n",
    "    for (n, f) in enumerate(kabel[:, 1])\n",
    "        fontsize(50)\n",
    "        fontface(f)\n",
    "        text(\"O\", t[n], halign=:center)\n",
    "        fontsize(11)\n",
    "        text(f, t[n] + (0, 50), halign=:center)\n",
    "    end\n",
    "end 800 300 \"images/bezier/kabelfonts.png\""
   ],
   "metadata": {},
   "execution_count": 21
  },
  {
   "outputs": [],
   "cell_type": "markdown",
   "source": [
    "![Kabel fonts](images/bezier/kabelfonts.png)"
   ],
   "metadata": {}
  },
  {
   "outputs": [],
   "cell_type": "markdown",
   "source": [
    "Here's Wikipedia:"
   ],
   "metadata": {}
  },
  {
   "outputs": [],
   "cell_type": "markdown",
   "source": [
    "> Kabel belongs to the \"geometric\" style of sans-serifs, which was becoming popular in Germany at the time of Kabel's creation [1920s]. Based loosely on the structure of the circle and straight lines, it nonetheless applies a number of unusual design decisions, such as a delicately low x-height (although larger in the bold weight), a quirky tilted 'e' and irregularly angled terminals, to add delicacy and an irregularity suggesting stylish calligraphy, of which Koch was an expert."
   ],
   "metadata": {}
  },
  {
   "outputs": [],
   "cell_type": "markdown",
   "source": [
    "Eye magazine [isn't convinced](http://eyemagazine.com/feature/article/expressive-geometry) by the apparent geometrical precision of Kabel:"
   ],
   "metadata": {}
  },
  {
   "outputs": [],
   "cell_type": "markdown",
   "source": [
    ">its eccentricities reveal Koch’s unwavering expressionistic and humanist instincts"
   ],
   "metadata": {}
  },
  {
   "outputs": [],
   "cell_type": "markdown",
   "source": [
    "But at least the ‘o’s are circular..."
   ],
   "metadata": {}
  },
  {
   "outputs": [],
   "cell_type": "markdown",
   "source": [
    "## Curvy"
   ],
   "metadata": {}
  },
  {
   "outputs": [],
   "cell_type": "markdown",
   "source": [
    "Moving back to Bézier curves, you can summarize the behaviour of a Bézier curve at a point by finding the curvature. The Luxor function `beziercurvature()` returns a number, called `kappa`, that varies and flips from positive to negative as the Bézier path varies in ‘curviness’. We're using the first and second derivatives to find the kappa value:"
   ],
   "metadata": {}
  },
  {
   "outputs": [],
   "cell_type": "markdown",
   "source": [
    "$$\n",
    " \\begin{equation}\n",
    " \\kappa = \\frac{\\mid \\dot{x}\\ddot{y}-\\dot{y}\\ddot{x}\\mid}\n",
    "    {(\\dot{x}^2 + \\dot{y}^2)^{\\frac{3}{2}}}\n",
    " \\end{equation}\n",
    "$$"
   ],
   "metadata": {}
  },
  {
   "outputs": [],
   "cell_type": "markdown",
   "source": [
    " The following `drawcurvature()` function uses the kappa value to work out the slope, and draw a perpendicular to the curve, with lengths varying according to the value of kappa, indicating the way the curvature changes."
   ],
   "metadata": {}
  },
  {
   "outputs": [],
   "cell_type": "markdown",
   "source": [
    "(This is another *kappa*, by the way, no relation to the Bézier circularity kappa. Or indeed to the Lancia Kappa..."
   ],
   "metadata": {}
  },
  {
   "outputs": [],
   "cell_type": "markdown",
   "source": [
    "# ![Lancia Kappa from Wikimedia Commons](images/bezier/2880px-Lancia_Kappa_front_20110130.jpg)"
   ],
   "metadata": {}
  },
  {
   "outputs": [],
   "cell_type": "markdown",
   "source": [
    "[Photograph by Rudolf Stricker](https://commons.wikimedia.org/wiki/File:Lancia_Kappa_front_20110130.jpg)"
   ],
   "metadata": {}
  },
  {
   "outputs": [],
   "cell_type": "markdown",
   "source": [
    "...or to many of the other things called kappa, such as the curvature of the universe, the torsional constant of an oscillator, Einstein's constant of gravitation, the coupling coefficient in magnetostatics—and that's just in physics.)"
   ],
   "metadata": {}
  },
  {
   "outputs": [
    {
     "output_type": "execute_result",
     "data": {
      "text/plain": "drawcurvature (generic function with 1 method)"
     },
     "metadata": {},
     "execution_count": 22
    }
   ],
   "cell_type": "code",
   "source": [
    "function drawcurvature(bezpathsegment::BezierPathSegment;\n",
    "        scale=500,\n",
    "        stepby=0.01,\n",
    "        colors=[\"purple\", \"green\"])\n",
    "    p1, cp1, cp2, p2 = bezpathsegment\n",
    "    for u in 0:stepby:1\n",
    "        pt = bezier(u, p1, cp1, cp2, p2)\n",
    "        kappa = beziercurvature(u, p1, cp1, cp2, p2)\n",
    "        # comb lines are perpendiculars\n",
    "        @layer begin\n",
    "            pt1 = bezier′(u, p1, cp1, cp2, p2)\n",
    "            # slope of curve at t = y′(t)/x′(t)\n",
    "            # normal is 1/slope\n",
    "            s = -1/(pt1.y/pt1.x)\n",
    "            sign(kappa) >= 0 ? sethue(colors[1]) : sethue(colors[2])\n",
    "            len = scale * abs(kappa)\n",
    "            line(pt - polar(len, atan(s)), pt + polar(len, atan(s)), :stroke)\n",
    "        end\n",
    "    end\n",
    "end"
   ],
   "metadata": {},
   "execution_count": 22
  },
  {
   "outputs": [],
   "cell_type": "markdown",
   "source": [
    "Here it is in action:"
   ],
   "metadata": {}
  },
  {
   "outputs": [],
   "cell_type": "code",
   "source": [
    "@png begin\n",
    "    p1  = Point(-150, 0)\n",
    "    cp1 = Point(-50, -200)\n",
    "    cp2 = Point(150, 200)\n",
    "    p2  = Point(250, -150)\n",
    "    setline(0.1)\n",
    "    for u in 0:0.025:1\n",
    "        pt = bezier(u, p1, cp1, cp2, p2)\n",
    "        circle(pt, 2, :fill)\n",
    "    end\n",
    "    sethue(\"red\")\n",
    "    circle.([p1, cp1, cp2, p2], 3, :fill)\n",
    "    setline(1)\n",
    "    line(p1, cp1, :stroke)\n",
    "    line(p2, cp2, :stroke)\n",
    "    sethue(\"black\")\n",
    "    fontsize(6)\n",
    "    setline(0.5)\n",
    "    drawcurvature(BezierPathSegment(p1, cp1, cp2, p2),\n",
    "        scale=1500,\n",
    "        stepby=0.005)\n",
    "end 600 500 \"images/bezier/drawcurvaturecomb.png\""
   ],
   "metadata": {},
   "execution_count": 23
  },
  {
   "outputs": [],
   "cell_type": "markdown",
   "source": [
    "![drawing the curvature comb](images/bezier/drawcurvaturecomb.png)"
   ],
   "metadata": {}
  },
  {
   "outputs": [],
   "cell_type": "markdown",
   "source": [
    "Users of CAD systems (particularly industrial designers) like to display these *curvature combs* (in both 2D and 3D) to make sure that their shapes don't introduce noticeably abrupt (and possible weak) transitions. Type designers use them too, but as usual they like to let their eyes have the final say."
   ],
   "metadata": {}
  },
  {
   "outputs": [],
   "cell_type": "code",
   "source": [
    "@png begin\n",
    "    background(\"gray30\")\n",
    "    fontface(\"Times-BoldItalic\")\n",
    "    translate(-250, 80)\n",
    "    fontsize(300)\n",
    "    textpath(\"julia\")\n",
    "    bpaths = pathtobezierpaths()\n",
    "    sethue(\"gray60\")\n",
    "    for bpath in bpaths\n",
    "        for bpseg in bpath\n",
    "            setline(0.5)\n",
    "            drawbezierpath(bpseg, :stroke)\n",
    "            setline(0.25)\n",
    "            drawcurvature(bpseg,\n",
    "                scale=180,\n",
    "                stepby=0.05,\n",
    "                colors=[\"gold\", \"cyan\"])\n",
    "        end\n",
    "    end\n",
    "end 800 500 \"images/bezier/typecomb.png\""
   ],
   "metadata": {},
   "execution_count": 24
  },
  {
   "outputs": [],
   "cell_type": "markdown",
   "source": [
    "![curvature comb for the g](images/bezier/typecomb.png)"
   ],
   "metadata": {}
  },
  {
   "outputs": [],
   "cell_type": "markdown",
   "source": [
    "The dots over the ‘i’ and ‘j’ don't look like perfect circles; these are defined by 8 points, not 4, for some reason."
   ],
   "metadata": {}
  },
  {
   "outputs": [],
   "cell_type": "markdown",
   "source": [
    "### Osculate my Béziers"
   ],
   "metadata": {}
  },
  {
   "outputs": [],
   "cell_type": "markdown",
   "source": [
    "The value of kappa is typically very small, so the *radius of curvature*, which is defined as $$\\frac{1}{kappa}$$, can become very large. This radius value defines a circle that just touches the curve and follows the curvature at that point. Mathematicians, in typically romantic mood, call it the *osculating circle*, *osculate* being from the Latin noun *osculum*, meaning \"kiss\"."
   ],
   "metadata": {}
  },
  {
   "outputs": [],
   "cell_type": "markdown",
   "source": [
    "Drawing osculating circles can be a challenge; they grow very large when the curve looks flat. To be honest it's a tricky diagram to style up, and there's a lot of information that it would be cool to keep and a shame to throw away. There's quite a bit of osculation going on here..."
   ],
   "metadata": {}
  },
  {
   "outputs": [],
   "cell_type": "code",
   "source": [
    "@png begin\n",
    "    p1  = Point(-400, 60)\n",
    "    cp1 = Point(-300, -400)\n",
    "    cp2 = Point(250, 300)\n",
    "    p2  = Point(200, -100)\n",
    "    background(\"pink\")\n",
    "    scale(0.75)\n",
    "    for u in 0:0.001:1\n",
    "        pt = bezier(u, p1, cp1, cp2, p2)\n",
    "        circle(pt, 4, :fill)\n",
    "    end\n",
    "    sethue(\"red\")\n",
    "    circle.([p1, cp1, cp2, p2], 5, :fill)\n",
    "    setline(2)\n",
    "    line(p1, cp1, :stroke)\n",
    "    line(p2, cp2, :stroke)\n",
    "    setopacity(0.1) ; setline(1.5) ; fontsize(5)\n",
    "    for pointofcontact in 0.0:0.015:1.0\n",
    "        kappa = beziercurvature(pointofcontact, p1, cp1, cp2, p2)\n",
    "        pt = bezier(pointofcontact, p1, cp1, cp2, p2)\n",
    "        @layer begin\n",
    "            setopacity(1.0)\n",
    "            sethue(\"black\")\n",
    "            circle(pt, 5, :fill)\n",
    "        end\n",
    "        pt1 = bezier′(pointofcontact, p1, cp1, cp2, p2)\n",
    "        s = -1/(pt1.y/pt1.x) # normal is 1/slope\n",
    "        radius = abs(1/kappa)\n",
    "        centrepoint = pt + polar(radius, atan(s))\n",
    "        if radius < 600\n",
    "            sign(kappa) >= 0 ? sethue(\"plum1\") : sethue(\"mediumpurple\")\n",
    "            circle(centrepoint, radius, :fill)\n",
    "            @layer begin\n",
    "                setopacity(1)\n",
    "                setline(0.25)\n",
    "                sethue(\"black\")\n",
    "                fontsize(12)\n",
    "                circle(centrepoint, radius, :stroke)\n",
    "                circle(centrepoint, 2, :fill)\n",
    "                line(centrepoint, pt, :stroke)\n",
    "                text(string(round(1/kappa, 2)), centrepoint)\n",
    "            end\n",
    "        else\n",
    "            text(\"too big\", pt)\n",
    "        end\n",
    "    end\n",
    "end 800 800 \"images/bezier/osculate.png\""
   ],
   "metadata": {},
   "execution_count": 25
  },
  {
   "outputs": [],
   "cell_type": "markdown",
   "source": [
    "![osculating](images/bezier/osculate.png)"
   ],
   "metadata": {}
  },
  {
   "outputs": [],
   "cell_type": "markdown",
   "source": [
    "## A blot on the landscape"
   ],
   "metadata": {}
  },
  {
   "outputs": [],
   "cell_type": "markdown",
   "source": [
    "Bézier curves became popular because they allow us to specify gently curving shapes that would be impractical and cumbersome to specify with circular arcs. The Comprehensive Taxonomy of Irregular Amoeboid Shapes is perhaps still waiting to be written, but here's my contribution to the ‘random ink blot’ chapter. Sometimes you'll get lucky and get a nice one."
   ],
   "metadata": {}
  },
  {
   "outputs": [],
   "cell_type": "code",
   "source": [
    "function blot(;pos=O, radius=50, npoints=10, action=:fill)\n",
    "    center = pos\n",
    "    pts = ngon(pos, radius, npoints, vertices=true)\n",
    "    for i in 1:length(pts)\n",
    "        pts[i] = pts[i] + (rand(-radius/3:radius/3), rand(-radius/3:radius/3))\n",
    "    end\n",
    "    bezpath = makebezierpath(pts)\n",
    "    for n in 1:length(bezpath)\n",
    "        bezseg = bezpath[mod1(n, length(bezpath))]\n",
    "        if isodd(n)\n",
    "            j = rand(1.4:0.1:7)\n",
    "            bezseg.cp1 = between(center, bezseg.p1, j)\n",
    "            bezseg.cp2 = between(center, bezseg.p2, j)\n",
    "        else\n",
    "            j = rand(0.25:0.1:0.7)\n",
    "            bezseg.cp1 = between(center, bezseg.p1, j)\n",
    "            bezseg.cp2 = between(center, bezseg.p2, j)\n",
    "        end\n",
    "    end\n",
    "    drawbezierpath(bezpath, action)\n",
    "    return bezpath\n",
    "end\n",
    "\n",
    "@png begin\n",
    "    sethue(\"midnightblue\")\n",
    "    blot(npoints=10)\n",
    "    circle.([Point(rand(-200:200), rand(-200:200)) for i in 1:15], rand(1:0.1:15, 15), :fill)\n",
    "end 800 500 \"images/bezier/blot.png\""
   ],
   "metadata": {},
   "execution_count": 26
  },
  {
   "outputs": [],
   "cell_type": "markdown",
   "source": [
    "![blot](images/bezier/blot.png)"
   ],
   "metadata": {}
  },
  {
   "outputs": [],
   "cell_type": "markdown",
   "source": [
    "The control handles of alternate points are positioned on a line from the center to the point."
   ],
   "metadata": {}
  },
  {
   "outputs": [],
   "cell_type": "markdown",
   "source": [
    "You could analyse the curvature of these blobs, if you really wanted to, using the `drawcurvature()` function from earlier:"
   ],
   "metadata": {}
  },
  {
   "outputs": [],
   "cell_type": "code",
   "source": [
    "@png begin\n",
    "    pl = box(BoundingBox(), vertices=true)\n",
    "    mesh1 = mesh(pl, [\"purple\", \"blue\", \"yellow\", \"orange\"])\n",
    "    setmesh(mesh1)\n",
    "    paint()\n",
    "    setopacity(0.8)\n",
    "    sethue(\"orange\")\n",
    "    setline(5)\n",
    "    b = blot(radius=80, npoints=8, action=:stroke)\n",
    "    drawbezierpath(b, :fill)\n",
    "    setline(.25)\n",
    "    drawcurvature.(b, colors=[\"white\", \"black\"])\n",
    "end 800 500 \"images/bezier/blobcomb.png\""
   ],
   "metadata": {},
   "execution_count": 27
  },
  {
   "outputs": [],
   "cell_type": "markdown",
   "source": [
    "![blob comb](images/bezier/blobcomb.png)"
   ],
   "metadata": {}
  },
  {
   "outputs": [],
   "cell_type": "markdown",
   "source": [
    "## A brush in the rough"
   ],
   "metadata": {}
  },
  {
   "outputs": [],
   "cell_type": "markdown",
   "source": [
    "Not all lines generated by computers have to be rigidly straight and precise. What if we could easily make graphics that are a bit more relaxed in style, rather than the rigid CAD-like (and yes, awesome) precision graphics we're used to?"
   ],
   "metadata": {}
  },
  {
   "outputs": [],
   "cell_type": "code",
   "source": [
    "@png begin\n",
    "    t = Table(1, 3)\n",
    "    box(t[1], 160, 160, :stroke)\n",
    "    boxv = box(t[3], 160, 160, vertices=true)\n",
    "    foreach((f, t) ->\n",
    "        brush(f, t, 3),\n",
    "           boxv[1:4],\n",
    "           boxv[mod1.(2:5, 4)])\n",
    "end 800 300 \"images/bezier/lines.png\""
   ],
   "metadata": {},
   "execution_count": 28
  },
  {
   "outputs": [],
   "cell_type": "markdown",
   "source": [
    "![rough lines](images/bezier/lines.png)"
   ],
   "metadata": {}
  },
  {
   "outputs": [],
   "cell_type": "markdown",
   "source": [
    "## “A line is a breadthless length.” (Euclid)"
   ],
   "metadata": {}
  },
  {
   "outputs": [],
   "cell_type": "markdown",
   "source": [
    "The idea here is that a single line between two points is replaced with some BezierPathSegments that together define a shape that can vary in thickness along its length. This shape can be then filled, and is independent of the set line thickness."
   ],
   "metadata": {}
  },
  {
   "outputs": [],
   "cell_type": "code",
   "source": [
    "@png begin\n",
    "    setline(60) # <— pointless\n",
    "    brush(O - (250, 0), O + (250, 0), 4, strokes=1)\n",
    "end 800 50  \"images/bezier/brushline1.png\""
   ],
   "metadata": {},
   "execution_count": 29
  },
  {
   "outputs": [],
   "cell_type": "markdown",
   "source": [
    "![brush line](images/bezier/brushline1.png)"
   ],
   "metadata": {}
  },
  {
   "outputs": [],
   "cell_type": "markdown",
   "source": [
    "The experimental `brush()` function is bristling with built-in randomness, so you never know what you're going to get. There are some control knobs available which you can play with."
   ],
   "metadata": {}
  },
  {
   "outputs": [],
   "cell_type": "code",
   "source": [
    "@png begin\n",
    "    brush(O - (250, 0), O + (250, 0), 5,\n",
    "        strokes=15,\n",
    "        twist=4)\n",
    "end 800 50  \"images/bezier/brushline2.png\""
   ],
   "metadata": {},
   "execution_count": 30
  },
  {
   "outputs": [],
   "cell_type": "markdown",
   "source": [
    "![brush line 2](images/bezier/brushline2.png)"
   ],
   "metadata": {}
  },
  {
   "outputs": [],
   "cell_type": "markdown",
   "source": [
    "To be honest, I think it's a bit daft to abandon the machine-like precision that our graphics software usually gives us for this variable hand-made look."
   ],
   "metadata": {}
  },
  {
   "outputs": [],
   "cell_type": "code",
   "source": [
    "using Iterators\n",
    "@png begin\n",
    "    background(\"gray20\")\n",
    "    sethue(\"ivory\")\n",
    "    for ss in subsets(ngon(O, 250, 13, vertices=true), 2)\n",
    "        # line(ss[1], ss[2], :stroke) # use this line for accurate graphics\n",
    "        brush(ss[1], ss[2], 4,\n",
    "            strokes=1,\n",
    "            minwidth=0.001,\n",
    "            maxwidth=0.05,\n",
    "            lowhandle=0.1,\n",
    "            highhandle=.2,\n",
    "            randomopacity=true)\n",
    "    end\n",
    "end 800 600  \"images/bezier/linepartition.png\""
   ],
   "metadata": {},
   "execution_count": 31
  },
  {
   "outputs": [],
   "cell_type": "markdown",
   "source": [
    "![line partition](images/bezier/linepartition.png)"
   ],
   "metadata": {}
  },
  {
   "outputs": [],
   "cell_type": "markdown",
   "source": [
    "Today, our relationship with mechanical production and product design is inconsistent; some of the things we desire we want to be hand-made, but others we'd prefer to be machine-made. Only the most expensive cars claim to be made ‘by hand’; the cheaper models flaunt their nanometre precision instead. Hipsters seek the authentic analogue roughness of the products of the Second Industrial age, but are secretly grateful for and rely on the smooth precisions afforded by the Third. Handmade shoes yes, handmode iPhones, no."
   ],
   "metadata": {}
  },
  {
   "outputs": [],
   "cell_type": "markdown",
   "source": [
    "There are a number of plotting packages that offer a hand-drawn aesthetic—[this site](http://xkcdgraphs.com) is web-based. So you can definitely announce your latest scientific discovery using XKCD-style presentation graphics. There are XKCD-styling kits for most of the software used by people who have heard of XKCD."
   ],
   "metadata": {}
  },
  {
   "outputs": [],
   "cell_type": "code",
   "source": [
    "@png begin\n",
    "    background(\"bisque\")\n",
    "    sethue(\"gray60\")\n",
    "    setopacity(0.1)\n",
    "    blot(pos=O + (-10, -50), radius=100)\n",
    "    sethue(\"springgreen2\")\n",
    "    brush(O + (20, 270), O + (0, -270), 3) # wonk y-axis\n",
    "    brush(O - (350, 0), O + (350, 10), 3)  # wonk x-axis\n",
    "\n",
    "    sine = [(Point(50x, -200sin(x)), Point(50(x + pi/6), -200sin(x + pi/6))) for x in -2pi:pi/10:2pi]\n",
    "\n",
    "    sethue(\"pink1\")\n",
    "    brush(Point(-300, -200), Point(300, -200), 0.5)\n",
    "\n",
    "    sethue(\"mediumorchid\")\n",
    "    foreach(pr -> brush(pr[1], pr[2], twist=5, highhandle=4, strokes=3), sine)\n",
    "end 800 600 \"images/bezier/graph.png\""
   ],
   "metadata": {},
   "execution_count": 32
  },
  {
   "outputs": [],
   "cell_type": "markdown",
   "source": [
    "![a graph](images/bezier/graph.png)"
   ],
   "metadata": {}
  },
  {
   "outputs": [],
   "cell_type": "markdown",
   "source": [
    "Unfortunately you've got the imprecise finish *without* the reassuring and lovable hand-made quirks. Like those imitation hand-writing fonts, it's presenting the illusion of manual labour."
   ],
   "metadata": {}
  },
  {
   "outputs": [],
   "cell_type": "code",
   "source": [
    "@png begin\n",
    "    fontsize(30)\n",
    "    fontface(\"SnellRoundhand-Script\")\n",
    "    text(\"pint of milk   cat food   stamps   something for dinner? \", halign=:center)\n",
    "end 800 100 \"images/bezier/shoppinglist.png\""
   ],
   "metadata": {},
   "execution_count": 33
  },
  {
   "outputs": [],
   "cell_type": "markdown",
   "source": [
    "![a shopping list](images/bezier/shoppinglist.png)"
   ],
   "metadata": {}
  },
  {
   "outputs": [],
   "cell_type": "markdown",
   "source": [
    "## A fist full of brushes"
   ],
   "metadata": {}
  },
  {
   "outputs": [],
   "cell_type": "markdown",
   "source": [
    "But it's always fun to explore an idea to see where it leads:"
   ],
   "metadata": {}
  },
  {
   "outputs": [],
   "cell_type": "code",
   "source": [
    "@png begin\n",
    "    t = Table(5, 5, 130, 100)\n",
    "    l = t.colwidths[1]\n",
    "    fontsize(4)\n",
    "    for (pos, n) in t\n",
    "        weight = rand(0:2:20)\n",
    "        strokes = rand(1:20)\n",
    "        minwidth=rand(0.0:0.1:0.3)\n",
    "        maxwidth=rand(minwidth+0.1:0.1:minwidth+0.3)\n",
    "        twist = rand(-10:10)\n",
    "        randomopacity = rand(Bool)\n",
    "        lowhandle = rand(0.0:0.1:0.5)\n",
    "        highhandle = rand(lowhandle:0.1:lowhandle+.5)\n",
    "        tidystart = rand(Bool)\n",
    "        @layer begin\n",
    "            translate(pos)\n",
    "            rotate(-0.2)\n",
    "            randomhue()\n",
    "            brush(O - (l/2, 0), O + (l/2, 0), weight,\n",
    "                strokes=strokes,\n",
    "                minwidth=minwidth,\n",
    "                maxwidth=maxwidth,\n",
    "                lowhandle=lowhandle,\n",
    "                highhandle=highhandle,\n",
    "                twist=twist,\n",
    "                randomopacity=randomopacity,\n",
    "                tidystart=tidystart)\n",
    "        end\n",
    "\n",
    "        textwrap(\"weight: $weight\n",
    "            strokes: $strokes\n",
    "            minwidth: $minwidth\n",
    "            maxwidth $maxwidth\n",
    "            twist: $twist\n",
    "            randomopacity: $randomopacity\n",
    "            tidystart :$tidystart\", t.colwidths[1] - 30, pos + (-l/2, 30))\n",
    "    end\n",
    "\n",
    "    sethue(\"black\")\n",
    "    fontsize(30)\n",
    "    fontface(\"Elephant\")\n",
    "    text(\"brush strokes\", boxtop(BoundingBox()) + (0, 40), halign=:center)\n",
    "end 800 600 \"images/bezier/brushes.png\""
   ],
   "metadata": {},
   "execution_count": 34
  },
  {
   "outputs": [],
   "cell_type": "markdown",
   "source": [
    "![a catalog of brushes](images/bezier/brushes.png)"
   ],
   "metadata": {}
  },
  {
   "outputs": [],
   "cell_type": "markdown",
   "source": [
    "The line quality can make for simple painterly graphics, good for the occasional [Bob Ross](https://en.wikipedia.org/wiki/Bob_Ross) painting:"
   ],
   "metadata": {}
  },
  {
   "outputs": [],
   "cell_type": "code",
   "source": [
    "using ColorSchemes\n",
    "function drawsunset()\n",
    "    colscheme= ColorSchemes.sunset\n",
    "    @png begin\n",
    "        background(\"burlywood4\")\n",
    "        sethue(\"orange\")\n",
    "        circle(O + (0, 60), 60, :fill)\n",
    "        setopacity(0.5)\n",
    "        for y in -200:20:180\n",
    "            sethue(get(colscheme, rescale(y, -200, 180, 1, 0)))\n",
    "            for w in 10:5:20\n",
    "                brush(Point(-350, y), Point(350, y), w,\n",
    "                    strokes = 1,\n",
    "                    twist = 5,\n",
    "                    minwidth=0.02,\n",
    "                    maxwidth=0.04,\n",
    "                    randomopacity=true\n",
    "                )\n",
    "            end\n",
    "        end\n",
    "        fontsize(30)\n",
    "        fontface(\"Pique-Black\")\n",
    "        text(\"Sunset over Luxor\", Point(0, 230), halign=:center)\n",
    "    end 800 500 \"images/bezier/sunset.png\"\n",
    "end\n",
    "drawsunset()"
   ],
   "metadata": {},
   "execution_count": 35
  },
  {
   "outputs": [],
   "cell_type": "markdown",
   "source": [
    "![sunset over luxor](images/bezier/sunset.png)"
   ],
   "metadata": {}
  },
  {
   "outputs": [],
   "cell_type": "markdown",
   "source": [
    "Each time you evaluate this the result is slightly different, yet always the same. Perhaps the next one will be better — wait, no, perhaps I preferred the previous one..."
   ],
   "metadata": {}
  },
  {
   "outputs": [],
   "cell_type": "markdown",
   "source": [
    "And because we started in France, let's paint some graffiti:"
   ],
   "metadata": {}
  },
  {
   "outputs": [],
   "cell_type": "code",
   "source": [
    "function drawfrenchflag()\n",
    "    w, h = 700, 400\n",
    "    @png begin\n",
    "        background(\"azure\")\n",
    "        setopacity(0.85)\n",
    "        setline(0.5)\n",
    "        colscheme = [Colors.RGB.(sethue(\"royalblue1\")...),\n",
    "        Colors.RGB.(sethue(\"white\")...),\n",
    "        Colors.RGB.(sethue(\"red\")...)]\n",
    "        for x in -w/2:40:w/2\n",
    "            # reduce x to 1, 2, or 3, then to [0-1] to get red/white/blue\n",
    "            col = rescale(div(x+w/2, w/3) + 1, 1, 3, 0, 1)\n",
    "            sethue(get(colscheme, col))\n",
    "            for i in 5:10:50\n",
    "                brush(Point(x, -h/2), Point(x, h/2),\n",
    "                    i,\n",
    "                    strokes=2,\n",
    "                    twist=10,\n",
    "                    highhandle=1)\n",
    "            end\n",
    "        end\n",
    "        b = box(O, 675, 375, vertices=true)\n",
    "        for i in 1:length(b)\n",
    "            sethue(\"purple\")\n",
    "            brush(b[i], b[mod1(i + 1, length(b))], 30,\n",
    "                strokes=20,\n",
    "                minwidth=0.01,\n",
    "                maxwidth=0.05)\n",
    "        end\n",
    "        fontface(\"MistralStd\")\n",
    "        setopacity(0.7)\n",
    "        sethue(\"purple\")\n",
    "        fontsize(100)\n",
    "        text(\"Vive la France!\", O + (10, 80), halign=:center, angle=-pi/10)\n",
    "    end 800 500 \"images/bezier/frenchflag.png\"\n",
    "end\n",
    "\n",
    "drawfrenchflag()"
   ],
   "metadata": {},
   "execution_count": 36
  },
  {
   "outputs": [],
   "cell_type": "markdown",
   "source": [
    "![drapeau francais](images/bezier/frenchflag.png)"
   ],
   "metadata": {}
  },
  {
   "outputs": [],
   "cell_type": "markdown",
   "source": [
    "...and then speed off in our curvaceous old Citroen DS and drive to the France/Swiss border, where CERN are busy recreating the big bang:"
   ],
   "metadata": {}
  },
  {
   "outputs": [],
   "cell_type": "code",
   "source": [
    "using ColorSchemes\n",
    "function unpetitbang()\n",
    "    @png begin\n",
    "        background(\"gray10\")\n",
    "\n",
    "        # rays\n",
    "        for i in 1:300\n",
    "            sethue(get(ColorSchemes.inferno, rand()))\n",
    "            rotate(rand())\n",
    "            brush(O + (rand(30:500), 0), O + (rand(501:1000), 0), 1,\n",
    "                strokes=5,\n",
    "                twist=rand(-1:0.1:1),\n",
    "                lowhandle  = 0.0,\n",
    "                highhandle = 0.5\n",
    "                )\n",
    "            l = rand(100:600)\n",
    "            l1 = l + rand(5:50)\n",
    "            sethue(\"white\")\n",
    "            brush(O + (l, 0), O + (l1, 0), 1,\n",
    "                strokes=10,\n",
    "                twist=rand(-1:0.1:1),\n",
    "                lowhandle  = 0.0,\n",
    "                highhandle = 1\n",
    "                )\n",
    "        end\n",
    "\n",
    "        # plasmas\n",
    "        for i in 1:20\n",
    "            sethue(get(ColorSchemes.plasma, rand()))\n",
    "            setopacity(rand(0.25:.05:0.75))\n",
    "            rotate(rand())\n",
    "            brush(O - (20, 0), O + (20, 0), 20,\n",
    "                maxwidth = 10,\n",
    "                highhandle = 10)\n",
    "        end\n",
    "\n",
    "        # orbits\n",
    "        sethue(\"ivory\")\n",
    "        setline(0.5)\n",
    "        for i in 1:10\n",
    "            rotate(rand())\n",
    "            brush(O - (0, 0), O + (50, 0), 10,\n",
    "                maxwidth = 20,\n",
    "                highhandle = 20,\n",
    "                action=:stroke)\n",
    "        end\n",
    "\n",
    "    end 1000 1000 \"images/bezier/unpetitbang.png\"\n",
    "end\n",
    "unpetitbang()"
   ],
   "metadata": {},
   "execution_count": 37
  },
  {
   "outputs": [],
   "cell_type": "markdown",
   "source": [
    "![un petit bang](images/bezier/unpetitbang.png)"
   ],
   "metadata": {}
  },
  {
   "outputs": [],
   "cell_type": "markdown",
   "source": [
    "[2018-06-20]"
   ],
   "metadata": {}
  },
  {
   "outputs": [],
   "cell_type": "markdown",
   "source": [
    "### Footnotes"
   ],
   "metadata": {}
  },
  {
   "outputs": [],
   "cell_type": "markdown",
   "source": [
    "#### *Don Lancaster*"
   ],
   "metadata": {}
  },
  {
   "outputs": [],
   "cell_type": "markdown",
   "source": [
    "Don Lancaster is the totally awesome dude who was active in the very early days of personal computing, and probably knows more about PostScript than most of the current Adobe Systems employees put together. Travel back in time by visiting his wacky website at http://www.tinaja.com."
   ],
   "metadata": {}
  },
  {
   "outputs": [],
   "cell_type": "markdown",
   "source": [
    "#### *Graphic formats*"
   ],
   "metadata": {}
  },
  {
   "outputs": [],
   "cell_type": "markdown",
   "source": [
    "All the images in this post are in PNG, but they looked better in the vector-based SVG format. However, there's an annoying ‘bug’ in Jupyter/IJulia/IPython involving text in SVG images created by Cairo. What happens is that Cairo tries to be smart and stores text in XML symbols, suitable for re-use. A good idea, but unfortunately they're stored in the notebook's ‘global XML scope’, and so later cells accidentally pick up symbol definitions from earlier cells and re-use them, even though that's not always what you want. A solution would be to somehow encapsulate the SVG image in a cell to prevent the definitions leaking. I don't know how to do that yet, but there's an [open issue](https://github.com/JuliaLang/IJulia.jl/issues/662) if you can help me find a workround..."
   ],
   "metadata": {}
  },
  {
   "outputs": [],
   "cell_type": "markdown",
   "source": [
    "*This notebook was generated using [Literate.jl](https://github.com/fredrikekre/Literate.jl).*"
   ],
   "metadata": {}
  }
 ],
 "nbformat_minor": 3,
 "metadata": {
  "language_info": {
   "file_extension": ".jl",
   "mimetype": "application/julia",
   "name": "julia",
   "version": "0.6.3"
  },
  "kernelspec": {
   "name": "julia-0.6",
   "display_name": "Julia 0.6.3",
   "language": "julia"
  }
 },
 "nbformat": 4
}
